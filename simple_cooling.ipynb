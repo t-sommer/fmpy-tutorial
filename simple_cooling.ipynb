{
  "nbformat": 4,
  "nbformat_minor": 0,
  "metadata": {
    "kernelspec": {
      "display_name": "Python 3",
      "language": "python",
      "name": "python3"
    },
    "language_info": {
      "codemirror_mode": {
        "name": "ipython",
        "version": 3
      },
      "file_extension": ".py",
      "mimetype": "text/x-python",
      "name": "python",
      "nbconvert_exporter": "python",
      "pygments_lexer": "ipython3",
      "version": "3.6.5"
    },
    "colab": {
      "name": "simple_cooling.ipynb",
      "provenance": []
    }
  },
  "cells": [
    {
      "cell_type": "code",
      "metadata": {
        "id": "sFawpMoZG156",
        "colab_type": "code",
        "colab": {
          "base_uri": "https://localhost:8080/",
          "height": 87
        },
        "outputId": "e8a12628-7808-4c9f-cb7a-d1cd936c85bd"
      },
      "source": [
        "# Install dependencies\n",
        "!pip install fmpy\n",
        "from fmpy import *"
      ],
      "execution_count": 19,
      "outputs": [
        {
          "output_type": "stream",
          "text": [
            "Requirement already satisfied: fmpy in /usr/local/lib/python3.6/dist-packages (0.2.23)\n",
            "Requirement already satisfied: lxml in /usr/local/lib/python3.6/dist-packages (from fmpy) (4.2.6)\n",
            "Requirement already satisfied: lark-parser in /usr/local/lib/python3.6/dist-packages (from fmpy) (0.9.0)\n",
            "Requirement already satisfied: numpy in /usr/local/lib/python3.6/dist-packages (from fmpy) (1.18.5)\n"
          ],
          "name": "stdout"
        }
      ]
    },
    {
      "cell_type": "code",
      "metadata": {
        "id": "3TBCN15YGtuc",
        "colab_type": "code",
        "colab": {
          "base_uri": "https://localhost:8080/",
          "height": 34
        },
        "outputId": "20b86300-0ebd-4426-95b5-9e68ad4a0cea"
      },
      "source": [
        "\n",
        "# Download the FMU\n",
        "from fmpy.util import download_file\n",
        "filename = download_file('https://github.com/t-sommer/fmpy-tutorial/raw/master/SimpleCooling.fmu')"
      ],
      "execution_count": 13,
      "outputs": [
        {
          "output_type": "stream",
          "text": [
            "Downloading https://github.com/t-sommer/fmpy-tutorial/raw/master/SimpleCooling.fmu\n"
          ],
          "name": "stdout"
        }
      ]
    },
    {
      "cell_type": "code",
      "metadata": {
        "id": "TE5Aka9lMnr6",
        "colab_type": "code",
        "colab": {}
      },
      "source": [
        "filename = 'SimpleCooling.fmu'"
      ],
      "execution_count": 16,
      "outputs": []
    },
    {
      "cell_type": "code",
      "metadata": {
        "id": "jGbAezjsGtuh",
        "colab_type": "code",
        "colab": {
          "base_uri": "https://localhost:8080/",
          "height": 117
        },
        "outputId": "72e0af60-edeb-4322-8608-493aedf3ab44"
      },
      "source": [
        "result = simulate_fmu(filename, start_values={'thermalConductance.k': 1}, output=['heatCapacitor.T'])\n",
        "plot_result(result)"
      ],
      "execution_count": 17,
      "outputs": [
        {
          "output_type": "display_data",
          "data": {
            "image/png": "[encoded data removed]",
            "text/plain": [
              "<Figure size 576x108 with 1 Axes>"
            ]
          },
          "metadata": {
            "tags": []
          }
        }
      ]
    },
    {
      "cell_type": "code",
      "metadata": {
        "scrolled": true,
        "id": "B6bDZBwqGtuk",
        "colab_type": "code",
        "colab": {
          "base_uri": "https://localhost:8080/",
          "height": 117
        },
        "outputId": "6e9bf7bc-8394-46f3-ccf1-4c7008e7d4d6"
      },
      "source": [
        "result = simulate_fmu(filename, start_values={'thermalConductance.k': 2}, output=['heatCapacitor.T'])\n",
        "plot_result(result)"
      ],
      "execution_count": 20,
      "outputs": [
        {
          "output_type": "display_data",
          "data": {
            "image/png": "[encoded data removed]",
            "text/plain": [
              "<Figure size 576x108 with 1 Axes>"
            ]
          },
          "metadata": {
            "tags": []
          }
        }
      ]
    },
    {
      "cell_type": "code",
      "metadata": {
        "id": "5qseLZF4Gtun",
        "colab_type": "code",
        "colab": {}
      },
      "source": [
        ""
      ],
      "execution_count": null,
      "outputs": []
    }
  ]
}