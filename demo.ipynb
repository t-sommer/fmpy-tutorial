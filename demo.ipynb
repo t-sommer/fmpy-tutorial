{
  "nbformat": 4,
  "nbformat_minor": 0,
  "metadata": {
    "colab": {
      "name": "Untitled",
      "provenance": [],
      "authorship_tag": "ABX9TyOzKJa3hr4fY3U6ipqa1kYu",
      "include_colab_link": true
    },
    "kernelspec": {
      "name": "python3",
      "display_name": "Python 3"
    }
  },
  "cells": [
    {
      "cell_type": "markdown",
      "metadata": {
        "id": "view-in-github",
        "colab_type": "text"
      },
      "source": [
        "<a href=\"https://colab.research.google.com/github/t-sommer/fmpy-tutorial/blob/master/demo.ipynb\" target=\"_parent\"><img src=\"https://colab.research.google.com/assets/colab-badge.svg\" alt=\"Open In Colab\"/></a>"
      ]
    },
    {
      "cell_type": "code",
      "metadata": {
        "id": "kArmm8CcIuuZ",
        "colab_type": "code",
        "colab": {
          "base_uri": "https://localhost:8080/",
          "height": 272
        },
        "outputId": "ce1bda5f-c9f9-402d-e9f8-940d99eb110b"
      },
      "source": [
        "!pip install fmpy"
      ],
      "execution_count": null,
      "outputs": [
        {
          "output_type": "stream",
          "text": [
            "Collecting fmpy\n",
            "\u001b[?25l  Downloading https://files.pythonhosted.org/packages/94/d6/f135772acf6691808363daedac6d01198edce1e9f15abdb4d74b1117650c/FMPy-0.2.23-py2.py3-none-any.whl (1.5MB)\n",
            "\u001b[K     |████████████████████████████████| 1.5MB 3.4MB/s \n",
            "\u001b[?25hRequirement already satisfied: numpy in /usr/local/lib/python3.6/dist-packages (from fmpy) (1.18.5)\n",
            "Requirement already satisfied: lxml in /usr/local/lib/python3.6/dist-packages (from fmpy) (4.2.6)\n",
            "Collecting lark-parser\n",
            "\u001b[?25l  Downloading https://files.pythonhosted.org/packages/8e/ac/c873c508dc2955da6eb85f0425e991a022cf2a4e53933ac057603d0cf890/lark-parser-0.9.0.tar.gz (298kB)\n",
            "\u001b[K     |████████████████████████████████| 307kB 19.4MB/s \n",
            "\u001b[?25hBuilding wheels for collected packages: lark-parser\n",
            "  Building wheel for lark-parser (setup.py) ... \u001b[?25l\u001b[?25hdone\n",
            "  Created wheel for lark-parser: filename=lark_parser-0.9.0-py2.py3-none-any.whl size=77190 sha256=312d4a35d3bc26b378323a2b3da75a78ff47b65fa095c83811c3ab7b640f1863\n",
            "  Stored in directory: /root/.cache/pip/wheels/ae/f0/7c/7a783fdb04f0d78b0986064e78171daa9b080f0e2b524b4bc2\n",
            "Successfully built lark-parser\n",
            "Installing collected packages: lark-parser, fmpy\n",
            "Successfully installed fmpy-0.2.23 lark-parser-0.9.0\n"
          ],
          "name": "stdout"
        }
      ]
    },
    {
      "cell_type": "code",
      "metadata": {
        "id": "gRXAL0VhI_Ay",
        "colab_type": "code",
        "colab": {}
      },
      "source": [
        "import fmpy"
      ],
      "execution_count": null,
      "outputs": []
    },
    {
      "cell_type": "code",
      "metadata": {
        "id": "zSL7vyqcJAqk",
        "colab_type": "code",
        "colab": {
          "base_uri": "https://localhost:8080/",
          "height": 164
        },
        "outputId": "faf06300-4e59-4d20-ab9a-45f1a36d9ffa"
      },
      "source": [
        "fmpy.examples.coupled_clutches.simulate_coupled_clutches()"
      ],
      "execution_count": null,
      "outputs": [
        {
          "output_type": "error",
          "ename": "AttributeError",
          "evalue": "ignored",
          "traceback": [
            "\u001b[0;31m---------------------------------------------------------------------------\u001b[0m",
            "\u001b[0;31mAttributeError\u001b[0m                            Traceback (most recent call last)",
            "\u001b[0;32m<ipython-input-3-a87026a61a31>\u001b[0m in \u001b[0;36m<module>\u001b[0;34m()\u001b[0m\n\u001b[0;32m----> 1\u001b[0;31m \u001b[0mfmpy\u001b[0m\u001b[0;34m.\u001b[0m\u001b[0mexamples\u001b[0m\u001b[0;34m.\u001b[0m\u001b[0mcoupled_clutches\u001b[0m\u001b[0;34m.\u001b[0m\u001b[0msimulate_coupled_clutches\u001b[0m\u001b[0;34m(\u001b[0m\u001b[0;34m)\u001b[0m\u001b[0;34m\u001b[0m\u001b[0;34m\u001b[0m\u001b[0m\n\u001b[0m",
            "\u001b[0;31mAttributeError\u001b[0m: module 'fmpy' has no attribute 'examples'"
          ]
        }
      ]
    },
    {
      "cell_type": "code",
      "metadata": {
        "id": "TKtA4oQWJMS3",
        "colab_type": "code",
        "colab": {
          "base_uri": "https://localhost:8080/",
          "height": 1000
        },
        "outputId": "e1b2c871-9020-4433-9b6f-c6b0bf242856"
      },
      "source": [
        "dir(fmpy)"
      ],
      "execution_count": null,
      "outputs": [
        {
          "output_type": "execute_result",
          "data": {
            "text/plain": [
              "['ARRAY',\n",
              " 'ArgumentError',\n",
              " 'Array',\n",
              " 'BigEndianStructure',\n",
              " 'CDLL',\n",
              " 'CFUNCTYPE',\n",
              " 'DEFAULT_MODE',\n",
              " 'LibraryLoader',\n",
              " 'LittleEndianStructure',\n",
              " 'POINTER',\n",
              " 'PYFUNCTYPE',\n",
              " 'PyDLL',\n",
              " 'RTLD_GLOBAL',\n",
              " 'RTLD_LOCAL',\n",
              " 'SetPointerType',\n",
              " 'Structure',\n",
              " 'Union',\n",
              " '__builtins__',\n",
              " '__cached__',\n",
              " '__doc__',\n",
              " '__file__',\n",
              " '__loader__',\n",
              " '__name__',\n",
              " '__package__',\n",
              " '__path__',\n",
              " '__spec__',\n",
              " '__version__',\n",
              " '_ctypes',\n",
              " 'addressof',\n",
              " 'alignment',\n",
              " 'architecture',\n",
              " 'byref',\n",
              " 'c_bool',\n",
              " 'c_buffer',\n",
              " 'c_byte',\n",
              " 'c_char',\n",
              " 'c_char_p',\n",
              " 'c_double',\n",
              " 'c_float',\n",
              " 'c_int',\n",
              " 'c_int16',\n",
              " 'c_int32',\n",
              " 'c_int64',\n",
              " 'c_int8',\n",
              " 'c_long',\n",
              " 'c_longdouble',\n",
              " 'c_longlong',\n",
              " 'c_short',\n",
              " 'c_size_t',\n",
              " 'c_ssize_t',\n",
              " 'c_ubyte',\n",
              " 'c_uint',\n",
              " 'c_uint16',\n",
              " 'c_uint32',\n",
              " 'c_uint64',\n",
              " 'c_uint8',\n",
              " 'c_ulong',\n",
              " 'c_ulonglong',\n",
              " 'c_ushort',\n",
              " 'c_void_p',\n",
              " 'c_voidp',\n",
              " 'c_wchar',\n",
              " 'c_wchar_p',\n",
              " 'calloc',\n",
              " 'cast',\n",
              " 'cdll',\n",
              " 'create_string_buffer',\n",
              " 'create_unicode_buffer',\n",
              " 'dump',\n",
              " 'extract',\n",
              " 'find_library',\n",
              " 'fmi1',\n",
              " 'fmi2',\n",
              " 'fmi3',\n",
              " 'fmi_info',\n",
              " 'free',\n",
              " 'freeLibrary',\n",
              " 'get_errno',\n",
              " 'instantiate_fmu',\n",
              " 'libc',\n",
              " 'memmove',\n",
              " 'memset',\n",
              " 'model_description',\n",
              " 'os',\n",
              " 'platform',\n",
              " 'platform_tuple',\n",
              " 'plot_result',\n",
              " 'pointer',\n",
              " 'py_object',\n",
              " 'pydll',\n",
              " 'pythonapi',\n",
              " 'read_csv',\n",
              " 'read_model_description',\n",
              " 'realloc',\n",
              " 'resize',\n",
              " 'set_errno',\n",
              " 'sharedLibraryExtension',\n",
              " 'simulate_fmu',\n",
              " 'simulation',\n",
              " 'sizeof',\n",
              " 'string_at',\n",
              " 'supported_platforms',\n",
              " 'sys',\n",
              " 'system',\n",
              " 'util',\n",
              " 'write_csv',\n",
              " 'wstring_at']"
            ]
          },
          "metadata": {
            "tags": []
          },
          "execution_count": 4
        }
      ]
    },
    {
      "cell_type": "code",
      "metadata": {
        "id": "eRxsXmFqJQLQ",
        "colab_type": "code",
        "colab": {}
      },
      "source": [
        "from fmpy.examples.coupled_clutches import simulate_coupled_clutches"
      ],
      "execution_count": null,
      "outputs": []
    },
    {
      "cell_type": "code",
      "metadata": {
        "id": "WB74eSxyJXnn",
        "colab_type": "code",
        "colab": {
          "base_uri": "https://localhost:8080/",
          "height": 1000
        },
        "outputId": "27e7c43f-8f28-4dd8-82da-8a331f3b57c8"
      },
      "source": [
        "simulate_coupled_clutches()"
      ],
      "execution_count": null,
      "outputs": [
        {
          "output_type": "stream",
          "text": [
            "Downloading https://github.com/modelica/fmi-cross-check/raw/master/fmus/2.0/me/linux64/MapleSim/2016.2/CoupledClutches/CoupledClutches.fmu\n",
            "Downloading https://github.com/modelica/fmi-cross-check/raw/master/fmus/2.0/me/linux64/MapleSim/2016.2/CoupledClutches/CoupledClutches_in.csv\n",
            "Loading input...\n",
            "Simulating CoupledClutches.fmu (FMI 2.0, ModelExchange, CVode)...\n",
            "Plotting results...\n"
          ],
          "name": "stdout"
        },
        {
          "output_type": "display_data",
          "data": {
            "image/png": "[encoded data removed]",
            "text/plain": [
              "<Figure size 576x432 with 4 Axes>"
            ]
          },
          "metadata": {
            "tags": []
          }
        },
        {
          "output_type": "stream",
          "text": [
            "Done.\n"
          ],
          "name": "stdout"
        },
        {
          "output_type": "execute_result",
          "data": {
            "text/plain": [
              "array([(0.        , 10.        , 0.        , 0.        , 0.        ),\n",
              "       (0.02      ,  9.86043591, 0.19990178, 0.        , 0.        ),\n",
              "       (0.04      ,  9.81649968, 0.39929003, 0.        , 0.        ),\n",
              "       (0.06      ,  9.8096685 , 0.597677  , 0.        , 0.        ),\n",
              "       (0.08      ,  9.76786246, 0.79456516, 0.        , 0.        ),\n",
              "       (0.1       ,  9.63476085, 0.98947191, 0.        , 0.        ),\n",
              "       (0.12      ,  9.38548261, 1.18190001, 0.        , 0.        ),\n",
              "       (0.14      ,  9.04105705, 1.37135234, 0.        , 0.        ),\n",
              "       (0.16      ,  8.66070181, 1.55734789, 0.        , 0.        ),\n",
              "       (0.18      ,  8.31912411, 1.7394167 , 0.        , 0.        ),\n",
              "       (0.2       ,  8.07737745, 1.91709952, 0.        , 0.        ),\n",
              "       (0.22      ,  7.96091612, 2.08994729, 0.        , 0.        ),\n",
              "       (0.24      ,  7.9486812 , 2.25752339, 0.        , 0.        ),\n",
              "       (0.26      ,  7.98116791, 2.41940476, 0.        , 0.        ),\n",
              "       (0.28      ,  7.98496713, 2.57518209, 0.        , 0.        ),\n",
              "       (0.3       ,  7.89956662, 2.7244622 , 0.        , 0.        ),\n",
              "       (0.32      ,  7.70094111, 2.86686791, 0.        , 0.        ),\n",
              "       (0.34      ,  7.41028652, 3.00203919, 0.        , 0.        ),\n",
              "       (0.36      ,  7.0883703 , 3.1296352 , 0.        , 0.        ),\n",
              "       (0.38      ,  6.80902616, 3.24933309, 0.        , 0.        ),\n",
              "       (0.4       ,  6.6338613 , 3.36083059, 0.        , 0.        ),\n",
              "       (0.4       ,  6.6338613 , 3.36083059, 0.        , 0.        ),\n",
              "       (0.4       ,  6.6338613 , 3.36083059, 0.        , 0.        ),\n",
              "       (0.40204803,  6.62396032, 3.35126898, 0.02048032, 0.        ),\n",
              "       (0.40204803,  6.62396032, 3.35126898, 0.02048032, 0.        ),\n",
              "       (0.42      ,  6.59427554, 3.26364197, 0.2       , 0.        ),\n",
              "       (0.44      ,  6.65465087, 3.15787321, 0.4       , 0.        ),\n",
              "       (0.46      ,  6.75861419, 3.04313918, 0.6       , 0.        ),\n",
              "       (0.48      ,  6.83499924, 2.91921401, 0.8       , 0.        ),\n",
              "       (0.5       ,  6.82563648, 2.78590379, 1.        , 0.        ),\n",
              "       (0.51493845,  6.74781774, 2.68010613, 1.1493845 , 0.        ),\n",
              "       (0.51493845,  6.74781774, 2.68010613, 1.1493845 , 0.        ),\n",
              "       (0.52      ,  6.70658281, 2.64290569, 1.2       , 0.        ),\n",
              "       (0.54      ,  6.50131116, 2.49027594, 1.4       , 0.        ),\n",
              "       (0.56      ,  6.27158593, 2.3278928 , 1.6       , 0.        ),\n",
              "       (0.57347533,  6.13984201, 2.21290143, 1.73475327, 0.        ),\n",
              "       (0.57347533,  6.13984201, 2.21290143, 1.73475327, 0.        ),\n",
              "       (0.58      ,  6.09136642, 2.15534189, 1.8       , 0.        ),\n",
              "       (0.5985997 ,  6.01686031, 1.98599703, 1.98599703, 0.        ),\n",
              "       (0.5985997 ,  6.01686031, 1.98599703, 1.98599703, 0.        ),\n",
              "       (0.6       ,  6.01606778, 1.98643861, 1.98643861, 0.        ),\n",
              "       (0.60271416,  6.01637648, 1.98722608, 1.98722608, 0.        ),\n",
              "       (0.60271416,  6.01637648, 1.98722608, 1.98722608, 0.        ),\n",
              "       (0.62      ,  6.07126557, 1.99019036, 1.99019036, 0.        ),\n",
              "       (0.62531685,  6.10521285, 1.99036632, 1.99036632, 0.        ),\n",
              "       (0.62531685,  6.10521285, 1.99036632, 1.99036632, 0.        ),\n",
              "       (0.6253427 ,  6.10540858, 1.99036632, 1.99036632, 0.        ),\n",
              "       (0.6253427 ,  6.10540858, 1.99036632, 1.99036632, 0.        ),\n",
              "       (0.62534529,  6.10542766, 1.99036632, 1.99036632, 0.        ),\n",
              "       (0.62534529,  6.10542766, 1.99036632, 1.99036632, 0.        ),\n",
              "       (0.64      ,  6.23084539, 1.99036632, 1.99036632, 0.        ),\n",
              "       (0.66      ,  6.42562704, 1.99036632, 1.99036632, 0.        ),\n",
              "       (0.68      ,  6.58269399, 1.99036632, 1.99036632, 0.        ),\n",
              "       (0.7       ,  6.64372553, 1.99036632, 1.99036632, 0.        ),\n",
              "       (0.72      ,  6.58497786, 1.99036632, 1.99036632, 0.        ),\n",
              "       (0.74      ,  6.42789352, 1.99036632, 1.99036632, 0.        ),\n",
              "       (0.76      ,  6.23271179, 1.99036632, 1.99036632, 0.        ),\n",
              "       (0.78      ,  6.07218115, 1.99036632, 1.99036632, 0.        ),\n",
              "       (0.8       ,  6.00792782, 1.99036632, 1.99036632, 0.        ),\n",
              "       (0.82      ,  6.06601911, 1.99036632, 1.99036632, 0.        ),\n",
              "       (0.84      ,  6.22507948, 1.99036632, 1.99036632, 0.        ),\n",
              "       (0.86      ,  6.42431677, 1.99036632, 1.99036632, 0.        ),\n",
              "       (0.88      ,  6.58740676, 1.99036632, 1.99036632, 0.        ),\n",
              "       (0.9       ,  6.65225704, 1.99036632, 1.99036632, 0.        ),\n",
              "       (0.9       ,  6.65225704, 1.99036632, 1.99036632, 0.        ),\n",
              "       (0.92      ,  6.59235698, 1.89036649, 1.89036649, 0.19999966),\n",
              "       (0.94      ,  6.43762906, 1.79036649, 1.79036649, 0.39999966),\n",
              "       (0.96      ,  6.24717893, 1.69036649, 1.69036649, 0.59999966),\n",
              "       (0.98      ,  6.09374031, 1.59036649, 1.59036649, 0.79999966),\n",
              "       (1.        ,  6.03591536, 1.49036649, 1.49036649, 0.99999966),\n",
              "       (1.02      ,  6.0941412 , 1.39036649, 1.39036649, 1.19999966),\n",
              "       (1.03269112,  6.18352819, 1.32691088, 1.32691088, 1.32691088),\n",
              "       (1.03269112,  6.18352819, 1.32691088, 1.32691088, 1.32691088),\n",
              "       (1.04      ,  6.25095426, 1.32691088, 1.32691088, 1.32691088),\n",
              "       (1.06      ,  6.44531091, 1.32691088, 1.32691088, 1.32691088),\n",
              "       (1.08      ,  6.60130617, 1.32691088, 1.32691088, 1.32691088),\n",
              "       (1.1       ,  6.66215993, 1.32691088, 1.32691088, 1.32691088),\n",
              "       (1.12      ,  6.60352959, 1.32691088, 1.32691088, 1.32691088),\n",
              "       (1.14      ,  6.44785017, 1.32691088, 1.32691088, 1.32691088),\n",
              "       (1.16      ,  6.25557519, 1.32691088, 1.32691088, 1.32691088),\n",
              "       (1.18      ,  6.10097331, 1.32691088, 1.32691088, 1.32691088),\n",
              "       (1.2       ,  6.03947148, 1.32691088, 1.32691088, 1.32691088),\n",
              "       (1.22      ,  6.09553502, 1.32691088, 1.32691088, 1.32691088),\n",
              "       (1.24      ,  6.25013653, 1.32691088, 1.32691088, 1.32691088),\n",
              "       (1.26      ,  6.4436881 , 1.32691088, 1.32691088, 1.32691088),\n",
              "       (1.28      ,  6.60328443, 1.32691088, 1.32691088, 1.32691088),\n",
              "       (1.3       ,  6.66730154, 1.32691088, 1.32691088, 1.32691088),\n",
              "       (1.32      ,  6.61168984, 1.32691088, 1.32691088, 1.32691088),\n",
              "       (1.34      ,  6.45778947, 1.32691088, 1.32691088, 1.32691088),\n",
              "       (1.36      ,  6.26382345, 1.32691088, 1.32691088, 1.32691088),\n",
              "       (1.38      ,  6.10434642, 1.32691088, 1.32691088, 1.32691088),\n",
              "       (1.4       ,  6.03984677, 1.32691088, 1.32691088, 1.32691088),\n",
              "       (1.42      ,  6.09527672, 1.32691088, 1.32691088, 1.32691088),\n",
              "       (1.44      ,  6.24990223, 1.32691088, 1.32691088, 1.32691088),\n",
              "       (1.46      ,  6.44536934, 1.32691088, 1.32691088, 1.32691088),\n",
              "       (1.48      ,  6.60700282, 1.32691088, 1.32691088, 1.32691088),\n",
              "       (1.5       ,  6.6708401 , 1.32691088, 1.32691088, 1.32691088)],\n",
              "      dtype=[('time', '<f8'), ('outputs[1]', '<f8'), ('outputs[2]', '<f8'), ('outputs[3]', '<f8'), ('outputs[4]', '<f8')])"
            ]
          },
          "metadata": {
            "tags": []
          },
          "execution_count": 6
        }
      ]
    },
    {
      "cell_type": "code",
      "metadata": {
        "id": "ZHlgI7_hJYxP",
        "colab_type": "code",
        "colab": {}
      },
      "source": [
        "import sys"
      ],
      "execution_count": null,
      "outputs": []
    },
    {
      "cell_type": "code",
      "metadata": {
        "id": "SpP2tEu6Jer6",
        "colab_type": "code",
        "colab": {
          "base_uri": "https://localhost:8080/",
          "height": 34
        },
        "outputId": "2a05b11e-e632-45e9-cef4-786ff8d1f8b3"
      },
      "source": [
        "sys.exc_info()"
      ],
      "execution_count": null,
      "outputs": [
        {
          "output_type": "execute_result",
          "data": {
            "text/plain": [
              "(None, None, None)"
            ]
          },
          "metadata": {
            "tags": []
          },
          "execution_count": 8
        }
      ]
    },
    {
      "cell_type": "code",
      "metadata": {
        "id": "WX0fjIy4Ji0H",
        "colab_type": "code",
        "colab": {}
      },
      "source": [
        "import platform"
      ],
      "execution_count": null,
      "outputs": []
    },
    {
      "cell_type": "code",
      "metadata": {
        "id": "yFTp2_RGJqpD",
        "colab_type": "code",
        "colab": {
          "base_uri": "https://localhost:8080/",
          "height": 35
        },
        "outputId": "947e881b-25ae-483d-c761-e2b7416e756a"
      },
      "source": [
        "platform.platform()"
      ],
      "execution_count": null,
      "outputs": [
        {
          "output_type": "execute_result",
          "data": {
            "application/vnd.google.colaboratory.intrinsic+json": {
              "type": "string"
            },
            "text/plain": [
              "'Linux-4.19.112+-x86_64-with-Ubuntu-18.04-bionic'"
            ]
          },
          "metadata": {
            "tags": []
          },
          "execution_count": 10
        }
      ]
    },
    {
      "cell_type": "code",
      "metadata": {
        "id": "07JbqaBNJsVW",
        "colab_type": "code",
        "colab": {}
      },
      "source": [
        ""
      ],
      "execution_count": null,
      "outputs": []
    }
  ]
}